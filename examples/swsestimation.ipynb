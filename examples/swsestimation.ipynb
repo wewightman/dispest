{
 "cells": [
  {
   "cell_type": "code",
   "execution_count": 1,
   "metadata": {},
   "outputs": [],
   "source": [
    "import numpy as np\n",
    "import matplotlib.pyplot as plt\n",
    "from dispest.swsest import swsradon\n",
    "from scipy.interpolate import interp1d"
   ]
  },
  {
   "cell_type": "code",
   "execution_count": 2,
   "metadata": {},
   "outputs": [],
   "source": [
    "latmin = 0\n",
    "latmax = 20E-3\n",
    "nlat = 128\n",
    "\n",
    "tmin = 0,\n",
    "tmax = 25.6E-3\n",
    "nt = 256\n",
    "\n",
    "cmax = 3.0\n",
    "cmin = 2.0\n",
    "nc = 3\n",
    "\n",
    "rand = np.random.default_rng()\n",
    "cfunc = interp1d(np.linspace(latmin, latmax, nc+1), rand.uniform(cmin, cmax, nc+1))\n",
    "\n",
    "lat = np.linspace(latmin, latmax, nlat).reshape((-1,1))\n",
    "t = np.linspace(tmin, tmax, nt).reshape((1,-1))\n",
    "c = cfunc(lat)"
   ]
  }
 ],
 "metadata": {
  "kernelspec": {
   "display_name": "pyus_remake",
   "language": "python",
   "name": "python3"
  },
  "language_info": {
   "codemirror_mode": {
    "name": "ipython",
    "version": 3
   },
   "file_extension": ".py",
   "mimetype": "text/x-python",
   "name": "python",
   "nbconvert_exporter": "python",
   "pygments_lexer": "ipython3",
   "version": "3.11.3"
  },
  "orig_nbformat": 4
 },
 "nbformat": 4,
 "nbformat_minor": 2
}
